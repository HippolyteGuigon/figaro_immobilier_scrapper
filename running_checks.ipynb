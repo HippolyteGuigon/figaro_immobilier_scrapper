{
 "cells": [
  {
   "cell_type": "code",
   "execution_count": 18,
   "metadata": {},
   "outputs": [],
   "source": [
    "import numpy as np \n",
    "import pandas as pd\n",
    "from bs4 import BeautifulSoup as bs\n",
    "import urllib.request\n",
    "from time import sleep\n",
    "from selenium import webdriver\n",
    "from selenium.webdriver.common.keys import Keys\n",
    "from selenium.webdriver.common.by import By\n",
    "import warnings \n",
    "warnings.filterwarnings(\"ignore\")\n",
    "import undetected_chromedriver as uc\n",
    "options = webdriver.ChromeOptions()\n",
    "options.add_argument('headless')\n",
    "options.add_argument(\"start-maximized\")\n",
    "\n"
   ]
  },
  {
   "cell_type": "code",
   "execution_count": 21,
   "metadata": {},
   "outputs": [
    {
     "name": "stderr",
     "output_type": "stream",
     "text": [
      "\n",
      "\n",
      "====== WebDriver manager ======\n",
      "Current google-chrome version is 105.0.5195\n",
      "Get LATEST chromedriver version for 105.0.5195 google-chrome\n",
      "Driver [/Users/hippolyteguigon/.wdm/drivers/chromedriver/mac64/105.0.5195.52/chromedriver] found in cache\n"
     ]
    },
    {
     "data": {
      "text/plain": [
       "True"
      ]
     },
     "execution_count": 21,
     "metadata": {},
     "output_type": "execute_result"
    }
   ],
   "source": [
    "url = \"https://immobilier.lefigaro.fr/?utm_source=google&utm_source=google&gclid=Cj0KCQjwyt-ZBhCNARIsAKH1174uIHxRv5SnDcPlZY-kZsTQrGrcsNnk5ievSAbU7FqAISN00t5d7zQaAiIuEALw_wcB&gclid=Cj0KCQjwyt-ZBhCNARIsAKH1174uIHxRv5SnDcPlZY-kZsTQrGrcsNnk5ievSAbU7FqAISN00t5d7zQaAiIuEALw_wcB&CampaignId=1449885585&AdGroupId=53275082541&feeditemid=&targetid=kwd-464125167257&loc_interest_ms=&loc_physical_ms=9055374&matchtype=p&network=g&device=c&device=c&devicemodel=&creative=277346529083&creative=277346529083&keyword=figaro%20immobilier&placement=&placement=&target=&adposition=&utm_medium=search&utm_medium=cpc&utm_campaign=Marque-Figaro-Immobilier&utm_agid=53275082541&utm_term=figaro%20immobilier\"\n",
    "\n",
    "from selenium import webdriver\n",
    "from selenium.webdriver.chrome.service import Service\n",
    "from webdriver_manager.chrome import ChromeDriverManager\n",
    "from selenium.webdriver.common.by import By\n",
    "\n",
    "s=Service(ChromeDriverManager().install())\n",
    "driver = webdriver.Chrome(service=s,options=options)\n",
    "driver.maximize_window()\n",
    "driver.get(url)\n",
    "driver.save_screenshot('screenshot.png')\n"
   ]
  },
  {
   "cell_type": "code",
   "execution_count": 11,
   "metadata": {},
   "outputs": [
    {
     "name": "stdout",
     "output_type": "stream",
     "text": [
      "<html><head><title>seloger.com</title><style>#cmsg{animation: A 1.5s;}@keyframes A{0%{opacity:0;}99%{opacity:0;}100%{opacity:1;}}</style><meta name=\"viewport\" content=\"width=device-width, initial-scale=1.0\"></head><body style=\"margin:0\"><script data-cfasync=\"false\">var dd={'cid':'AHrlqAAAAAMAOU6-BA-b2TkAU83KAQ==','hsh':'77D81445BE5A1B811A597604196595','t':'bv','s':20696,'e':'0628c1029f056d0e7c0aa9e1e2e59141a91b68212481f0e0840425279d8c8770','host':'geo.captcha-delivery.com'}</script><script data-cfasync=\"false\" src=\"https://ct.captcha-delivery.com/c.js\"></script><script>if(\"string\"==typeof navigator.userAgent&&navigator.userAgent.indexOf(\"Firefox\")>-1){var isIframeLoaded=!1,maxTimeoutMs=5e3;function iframeOnload(e){isIframeLoaded=!0;var a=document.getElementById(\"noiframe\");a&&a.parentNode.removeChild(a)}var initialTime=(new Date).getTime();setTimeout(function(){isIframeLoaded||(new Date).getTime()-initialTime>maxTimeoutMs&&(document.body.innerHTML='<div id=\"noiframe\">Please enable JS and disable any ad blocker</div>'+document.body.innerHTML)},maxTimeoutMs)}else function iframeOnload(){}</script><iframe src=\"https://geo.captcha-delivery.com/captcha/?initialCid=AHrlqAAAAAMAOU6-BA-b2TkAU83KAQ%3D%3D&amp;hash=77D81445BE5A1B811A597604196595&amp;cid=11Zwk_wI6QeJILANuNSZPM~ACgE.b12c9mBTsX6eSof4UmgPw8zkEy0lCEXw-OFKb6V31uZjZj2fPWcpba7jXI_M-ob~lo.oovsoTxH4Seqec.3ezRsA7J~R2xVKZR-&amp;t=bv&amp;referer=https%3A%2F%2Fwww.seloger.com%2F&amp;s=20696&amp;e=0628c1029f056d0e7c0aa9e1e2e59141a91b68212481f0e0840425279d8c8770\" width=\"100%\" height=\"100%\" style=\"height:100vh;\" frameborder=\"0\" border=\"0\" scrolling=\"yes\" onload=\"iframeOnload()\"></iframe>\n",
      "</body></html>\n"
     ]
    }
   ],
   "source": [
    "print(driver.page_source)"
   ]
  },
  {
   "cell_type": "code",
   "execution_count": 12,
   "metadata": {},
   "outputs": [
    {
     "data": {
      "text/plain": [
       "True"
      ]
     },
     "execution_count": 12,
     "metadata": {},
     "output_type": "execute_result"
    }
   ],
   "source": []
  },
  {
   "cell_type": "code",
   "execution_count": null,
   "metadata": {},
   "outputs": [],
   "source": []
  }
 ],
 "metadata": {
  "kernelspec": {
   "display_name": "Python 3.9.7 ('base')",
   "language": "python",
   "name": "python3"
  },
  "language_info": {
   "codemirror_mode": {
    "name": "ipython",
    "version": 3
   },
   "file_extension": ".py",
   "mimetype": "text/x-python",
   "name": "python",
   "nbconvert_exporter": "python",
   "pygments_lexer": "ipython3",
   "version": "3.9.7"
  },
  "orig_nbformat": 4,
  "vscode": {
   "interpreter": {
    "hash": "cd78fef2128015050713e82ca51c6520b11aee7c9ee8df750520bbbc7384cbaa"
   }
  }
 },
 "nbformat": 4,
 "nbformat_minor": 2
}
