{
 "cells": [
  {
   "cell_type": "code",
   "execution_count": 9,
   "metadata": {},
   "outputs": [],
   "source": [
    "import numpy as np \n",
    "import pandas as pd\n",
    "from bs4 import BeautifulSoup as bs\n",
    "import urllib.request\n",
    "from time import sleep\n",
    "from selenium import webdriver\n",
    "from selenium.webdriver.common.keys import Keys\n",
    "from selenium.webdriver.common.by import By\n",
    "import warnings \n",
    "warnings.filterwarnings(\"ignore\")\n",
    "import undetected_chromedriver as uc\n",
    "options = webdriver.ChromeOptions()\n",
    "options.add_argument('headless')\n",
    "options.add_argument(\"start-maximized\")\n",
    "from time import sleep\n",
    "\n",
    "from scrapper import scrapper"
   ]
  },
  {
   "cell_type": "code",
   "execution_count": 2,
   "metadata": {},
   "outputs": [
    {
     "name": "stderr",
     "output_type": "stream",
     "text": [
      "\n",
      "\n"
     ]
    },
    {
     "name": "stdout",
     "output_type": "stream",
     "text": [
      "2022-10-03 08:36:13,344 | INFO | \n",
      "\n"
     ]
    },
    {
     "name": "stderr",
     "output_type": "stream",
     "text": [
      "====== WebDriver manager ======\n"
     ]
    },
    {
     "name": "stdout",
     "output_type": "stream",
     "text": [
      "2022-10-03 08:36:13,346 | INFO | ====== WebDriver manager ======\n"
     ]
    },
    {
     "name": "stderr",
     "output_type": "stream",
     "text": [
      "Current google-chrome version is 106.0.5249\n"
     ]
    },
    {
     "name": "stdout",
     "output_type": "stream",
     "text": [
      "2022-10-03 08:36:13,441 | INFO | Current google-chrome version is 106.0.5249\n"
     ]
    },
    {
     "name": "stderr",
     "output_type": "stream",
     "text": [
      "Get LATEST chromedriver version for 106.0.5249 google-chrome\n"
     ]
    },
    {
     "name": "stdout",
     "output_type": "stream",
     "text": [
      "2022-10-03 08:36:13,444 | INFO | Get LATEST chromedriver version for 106.0.5249 google-chrome\n"
     ]
    },
    {
     "name": "stderr",
     "output_type": "stream",
     "text": [
      "Driver [/Users/hippolyteguigon/.wdm/drivers/chromedriver/mac64/106.0.5249.61/chromedriver] found in cache\n"
     ]
    },
    {
     "name": "stdout",
     "output_type": "stream",
     "text": [
      "2022-10-03 08:36:13,672 | INFO | Driver [/Users/hippolyteguigon/.wdm/drivers/chromedriver/mac64/106.0.5249.61/chromedriver] found in cache\n"
     ]
    },
    {
     "ename": "NameError",
     "evalue": "name 'options' is not defined",
     "output_type": "error",
     "traceback": [
      "\u001b[0;31m---------------------------------------------------------------------------\u001b[0m",
      "\u001b[0;31mNameError\u001b[0m                                 Traceback (most recent call last)",
      "\u001b[0;32m/var/folders/h3/dhx473_d22lf25hhg2vdtk080000gn/T/ipykernel_63725/2455098573.py\u001b[0m in \u001b[0;36m<module>\u001b[0;34m\u001b[0m\n\u001b[1;32m     10\u001b[0m \u001b[0;34m\u001b[0m\u001b[0m\n\u001b[1;32m     11\u001b[0m \u001b[0ms\u001b[0m\u001b[0;34m=\u001b[0m\u001b[0mService\u001b[0m\u001b[0;34m(\u001b[0m\u001b[0mChromeDriverManager\u001b[0m\u001b[0;34m(\u001b[0m\u001b[0mlog_level\u001b[0m\u001b[0;34m=\u001b[0m\u001b[0;36m0\u001b[0m\u001b[0;34m)\u001b[0m\u001b[0;34m.\u001b[0m\u001b[0minstall\u001b[0m\u001b[0;34m(\u001b[0m\u001b[0;34m)\u001b[0m\u001b[0;34m)\u001b[0m\u001b[0;34m\u001b[0m\u001b[0;34m\u001b[0m\u001b[0m\n\u001b[0;32m---> 12\u001b[0;31m \u001b[0mdriver\u001b[0m \u001b[0;34m=\u001b[0m \u001b[0mwebdriver\u001b[0m\u001b[0;34m.\u001b[0m\u001b[0mChrome\u001b[0m\u001b[0;34m(\u001b[0m\u001b[0mservice\u001b[0m\u001b[0;34m=\u001b[0m\u001b[0ms\u001b[0m\u001b[0;34m,\u001b[0m\u001b[0moptions\u001b[0m\u001b[0;34m=\u001b[0m\u001b[0moptions\u001b[0m\u001b[0;34m)\u001b[0m\u001b[0;34m\u001b[0m\u001b[0;34m\u001b[0m\u001b[0m\n\u001b[0m\u001b[1;32m     13\u001b[0m \u001b[0mdriver\u001b[0m\u001b[0;34m.\u001b[0m\u001b[0mmaximize_window\u001b[0m\u001b[0;34m(\u001b[0m\u001b[0;34m)\u001b[0m\u001b[0;34m\u001b[0m\u001b[0;34m\u001b[0m\u001b[0m\n\u001b[1;32m     14\u001b[0m \u001b[0mdriver\u001b[0m\u001b[0;34m.\u001b[0m\u001b[0mget\u001b[0m\u001b[0;34m(\u001b[0m\u001b[0murl\u001b[0m\u001b[0;34m)\u001b[0m\u001b[0;34m\u001b[0m\u001b[0;34m\u001b[0m\u001b[0m\n",
      "\u001b[0;31mNameError\u001b[0m: name 'options' is not defined"
     ]
    }
   ],
   "source": [
    "url = \"https://immobilier.lefigaro.fr/\"\n",
    "\n",
    "from selenium import webdriver\n",
    "from selenium.webdriver.chrome.service import Service\n",
    "from webdriver_manager.chrome import ChromeDriverManager\n",
    "from selenium.webdriver.common.by import By\n",
    "from selenium.webdriver.support.ui import WebDriverWait\n",
    "from selenium.webdriver.support import expected_conditions as EC\n",
    "import logging\n",
    "\n",
    "s=Service(ChromeDriverManager(log_level=0).install())\n",
    "driver = webdriver.Chrome(service=s,options=options)\n",
    "driver.maximize_window()\n",
    "driver.get(url)\n",
    "\n",
    "if driver.find_element_by_xpath('/html/body/div[1]/div/div/main/section[1]/div/div[2]/div/input').get_attribute('placeholder')==\"Saisissez une ou plusieurs villes\":\n",
    "    logging.warning('La connexion a bien réussie')\n",
    "\n",
    "element = driver.find_element_by_xpath('//*[@id=\"homepage-v2\"]/section[1]/div/div[1]/button[2]')\n",
    "driver.execute_script(\"arguments[0].click();\", element)\n",
    "#WebDriverWait(driver, 20).until(EC.element_to_be_clickable((By.XPATH, \"//span[text()='TOUT ACCEPTER']\"))).click()\n",
    "\n",
    "#element = driver.find_element_by_xpath('//button[contains(text(), \"TOUT ACCEPTER\")]')\n",
    "#driver.execute_script(\"arguments[0].click();\", element)\n",
    "\n",
    "element = driver.find_element_by_xpath('//*[@id=\"homepage-v2\"]/section[1]/div/button[2]')\n",
    "driver.execute_script(\"arguments[0].click();\", element)\n",
    "driver.implicitly_wait(10)\n",
    "driver.save_screenshot('screenshot1.png')\n"
   ]
  },
  {
   "cell_type": "code",
   "execution_count": 22,
   "metadata": {},
   "outputs": [],
   "source": [
    "from scrapper import scrapper"
   ]
  },
  {
   "cell_type": "code",
   "execution_count": 23,
   "metadata": {},
   "outputs": [],
   "source": [
    "a = scrapper.Scrapper()"
   ]
  },
  {
   "cell_type": "code",
   "execution_count": 24,
   "metadata": {},
   "outputs": [
    {
     "data": {
      "text/plain": [
       "<module 'logs.logs_config' from '/Users/hippolyteguigon/se_loger_scrapper/logs/logs_config.py'>"
      ]
     },
     "execution_count": 24,
     "metadata": {},
     "output_type": "execute_result"
    }
   ],
   "source": [
    "import scrapper.scrapper as mc\n",
    "import logs.logs_config as mc2\n",
    "import importlib\n",
    "\n",
    "importlib.reload(mc)\n",
    "importlib.reload(mc2)\n"
   ]
  },
  {
   "cell_type": "code",
   "execution_count": 25,
   "metadata": {},
   "outputs": [
    {
     "name": "stderr",
     "output_type": "stream",
     "text": [
      "\n",
      "\n",
      "INFO:WDM:\n",
      "\n"
     ]
    },
    {
     "name": "stdout",
     "output_type": "stream",
     "text": [
      "\n",
      "\n",
      "\n",
      "\n",
      "\n",
      "\n",
      "\n",
      "\n",
      "\n",
      "\n",
      "\n",
      "\n",
      "\n",
      "\n",
      "2022-10-03 08:21:57,478 | INFO | \n",
      "\n"
     ]
    },
    {
     "name": "stderr",
     "output_type": "stream",
     "text": [
      "====== WebDriver manager ======\n",
      "INFO:WDM:====== WebDriver manager ======\n"
     ]
    },
    {
     "name": "stdout",
     "output_type": "stream",
     "text": [
      "====== WebDriver manager ======\n",
      "====== WebDriver manager ======\n",
      "====== WebDriver manager ======\n",
      "====== WebDriver manager ======\n",
      "====== WebDriver manager ======\n",
      "====== WebDriver manager ======\n",
      "====== WebDriver manager ======\n",
      "2022-10-03 08:21:57,522 | INFO | ====== WebDriver manager ======\n"
     ]
    },
    {
     "name": "stderr",
     "output_type": "stream",
     "text": [
      "Current google-chrome version is 106.0.5249\n",
      "INFO:WDM:Current google-chrome version is 106.0.5249\n"
     ]
    },
    {
     "name": "stdout",
     "output_type": "stream",
     "text": [
      "Current google-chrome version is 106.0.5249\n",
      "Current google-chrome version is 106.0.5249\n",
      "Current google-chrome version is 106.0.5249\n",
      "Current google-chrome version is 106.0.5249\n",
      "Current google-chrome version is 106.0.5249\n",
      "Current google-chrome version is 106.0.5249\n",
      "Current google-chrome version is 106.0.5249\n",
      "2022-10-03 08:21:57,699 | INFO | Current google-chrome version is 106.0.5249\n"
     ]
    },
    {
     "name": "stderr",
     "output_type": "stream",
     "text": [
      "Get LATEST chromedriver version for 106.0.5249 google-chrome\n",
      "INFO:WDM:Get LATEST chromedriver version for 106.0.5249 google-chrome\n"
     ]
    },
    {
     "name": "stdout",
     "output_type": "stream",
     "text": [
      "Get LATEST chromedriver version for 106.0.5249 google-chrome\n",
      "Get LATEST chromedriver version for 106.0.5249 google-chrome\n",
      "Get LATEST chromedriver version for 106.0.5249 google-chrome\n",
      "Get LATEST chromedriver version for 106.0.5249 google-chrome\n",
      "Get LATEST chromedriver version for 106.0.5249 google-chrome\n",
      "Get LATEST chromedriver version for 106.0.5249 google-chrome\n",
      "Get LATEST chromedriver version for 106.0.5249 google-chrome\n",
      "2022-10-03 08:21:57,709 | INFO | Get LATEST chromedriver version for 106.0.5249 google-chrome\n"
     ]
    },
    {
     "name": "stderr",
     "output_type": "stream",
     "text": [
      "Driver [/Users/hippolyteguigon/.wdm/drivers/chromedriver/mac64/106.0.5249.61/chromedriver] found in cache\n",
      "INFO:WDM:Driver [/Users/hippolyteguigon/.wdm/drivers/chromedriver/mac64/106.0.5249.61/chromedriver] found in cache\n"
     ]
    },
    {
     "name": "stdout",
     "output_type": "stream",
     "text": [
      "Driver [/Users/hippolyteguigon/.wdm/drivers/chromedriver/mac64/106.0.5249.61/chromedriver] found in cache\n",
      "Driver [/Users/hippolyteguigon/.wdm/drivers/chromedriver/mac64/106.0.5249.61/chromedriver] found in cache\n",
      "Driver [/Users/hippolyteguigon/.wdm/drivers/chromedriver/mac64/106.0.5249.61/chromedriver] found in cache\n",
      "Driver [/Users/hippolyteguigon/.wdm/drivers/chromedriver/mac64/106.0.5249.61/chromedriver] found in cache\n",
      "Driver [/Users/hippolyteguigon/.wdm/drivers/chromedriver/mac64/106.0.5249.61/chromedriver] found in cache\n",
      "Driver [/Users/hippolyteguigon/.wdm/drivers/chromedriver/mac64/106.0.5249.61/chromedriver] found in cache\n",
      "Driver [/Users/hippolyteguigon/.wdm/drivers/chromedriver/mac64/106.0.5249.61/chromedriver] found in cache\n",
      "2022-10-03 08:21:57,891 | INFO | Driver [/Users/hippolyteguigon/.wdm/drivers/chromedriver/mac64/106.0.5249.61/chromedriver] found in cache\n"
     ]
    },
    {
     "name": "stderr",
     "output_type": "stream",
     "text": [
      "WARNING:root:La connexion a bien réussie\n"
     ]
    },
    {
     "name": "stdout",
     "output_type": "stream",
     "text": [
      "La connexion a bien réussie\n",
      "La connexion a bien réussie\n",
      "La connexion a bien réussie\n",
      "La connexion a bien réussie\n",
      "La connexion a bien réussie\n",
      "La connexion a bien réussie\n",
      "La connexion a bien réussie\n",
      "La connexion a bien réussie\n",
      "2022-10-03 08:22:01,069 | WARNING | La connexion a bien réussie\n",
      "La connexion a bien réussie\n",
      "La connexion a bien réussie\n"
     ]
    }
   ],
   "source": [
    "a = scrapper.Scrapper()\n",
    "\n",
    "a.connect()"
   ]
  },
  {
   "cell_type": "code",
   "execution_count": null,
   "metadata": {},
   "outputs": [],
   "source": []
  },
  {
   "cell_type": "code",
   "execution_count": 1,
   "metadata": {},
   "outputs": [
    {
     "name": "stdout",
     "output_type": "stream",
     "text": [
      "2022-10-03 08:35:19,723 | INFO | La connexion a bien réussie!\n",
      "2022-10-03 08:35:19,725 | ERROR | This is an error message.\n"
     ]
    }
   ],
   "source": [
    "import logging\n",
    "import sys\n",
    "\n",
    "logger = logging.getLogger()\n",
    "logger.setLevel(logging.INFO)\n",
    "formatter = logging.Formatter('%(asctime)s | %(levelname)s | %(message)s')\n",
    "\n",
    "stdout_handler = logging.StreamHandler(sys.stdout)\n",
    "stdout_handler.setLevel(logging.DEBUG)\n",
    "stdout_handler.setFormatter(formatter)\n",
    "\n",
    "file_handler = logging.FileHandler('logs.log')\n",
    "file_handler.setLevel(logging.DEBUG)\n",
    "file_handler.setFormatter(formatter)\n",
    "\n",
    "\n",
    "logger.addHandler(file_handler)\n",
    "logger.addHandler(stdout_handler)\n",
    "\n",
    "logger.info('La connexion a bien réussie!')\n",
    "logger.error('This is an error message.')"
   ]
  },
  {
   "cell_type": "code",
   "execution_count": null,
   "metadata": {},
   "outputs": [],
   "source": []
  }
 ],
 "metadata": {
  "kernelspec": {
   "display_name": "Python 3.9.7 ('base')",
   "language": "python",
   "name": "python3"
  },
  "language_info": {
   "codemirror_mode": {
    "name": "ipython",
    "version": 3
   },
   "file_extension": ".py",
   "mimetype": "text/x-python",
   "name": "python",
   "nbconvert_exporter": "python",
   "pygments_lexer": "ipython3",
   "version": "3.9.7"
  },
  "orig_nbformat": 4,
  "vscode": {
   "interpreter": {
    "hash": "cd78fef2128015050713e82ca51c6520b11aee7c9ee8df750520bbbc7384cbaa"
   }
  }
 },
 "nbformat": 4,
 "nbformat_minor": 2
}
