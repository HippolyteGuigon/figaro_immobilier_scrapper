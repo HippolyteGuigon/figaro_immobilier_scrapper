{
 "cells": [
  {
   "cell_type": "code",
   "execution_count": 1,
   "metadata": {},
   "outputs": [],
   "source": [
    "from scrapper import scrapper"
   ]
  },
  {
   "cell_type": "code",
   "execution_count": 2,
   "metadata": {},
   "outputs": [],
   "source": [
    "a = scrapper.Scrapper()"
   ]
  },
  {
   "cell_type": "code",
   "execution_count": 3,
   "metadata": {},
   "outputs": [
    {
     "data": {
      "text/plain": [
       "<module 'logs.logs_config' from '/Users/hippodouche/se_loger_scrapping/figaro_immobilier_scrapper/logs/logs_config.py'>"
      ]
     },
     "execution_count": 3,
     "metadata": {},
     "output_type": "execute_result"
    }
   ],
   "source": [
    "import scrapper.scrapper as mc\n",
    "import logs.logs_config as mc2\n",
    "import importlib\n",
    "\n",
    "importlib.reload(mc)\n",
    "importlib.reload(mc2)\n"
   ]
  },
  {
   "cell_type": "code",
   "execution_count": 4,
   "metadata": {},
   "outputs": [
    {
     "name": "stdout",
     "output_type": "stream",
     "text": [
      "2022-10-09 03:45:02,910 | INFO | La connexion à la page d'acceuil a bien réussie\n"
     ]
    }
   ],
   "source": [
    "a = scrapper.Scrapper()\n",
    "\n",
    "a.check_connect()"
   ]
  },
  {
   "cell_type": "code",
   "execution_count": 5,
   "metadata": {},
   "outputs": [
    {
     "name": "stdout",
     "output_type": "stream",
     "text": [
      "2022-10-09 03:45:02,969 | WARNING | L'utilisateur a choisi l'otion louer\n",
      "2022-10-09 03:45:08,187 | INFO | La recherche a bien aboutie\n"
     ]
    }
   ],
   "source": [
    "a.search_type(\"louer\")"
   ]
  },
  {
   "cell_type": "code",
   "execution_count": 6,
   "metadata": {},
   "outputs": [
    {
     "name": "stdout",
     "output_type": "stream",
     "text": [
      "2022-10-09 03:45:11,679 | WARNING | L'utilisateur a choisi la région Paris\n",
      "2022-10-09 03:45:25,362 | INFO | Le filtrage opéré sur la région de Paris a bien fonctionné, il y a 2 604 résultats\n"
     ]
    }
   ],
   "source": [
    "a.filter_search([\"Paris\"])"
   ]
  },
  {
   "cell_type": "code",
   "execution_count": 7,
   "metadata": {},
   "outputs": [
    {
     "name": "stdout",
     "output_type": "stream",
     "text": [
      "2022-10-09 03:45:32,860 | INFO | L'utilisateur a filtré les prix entre 0€ et 2000€, il y a 1 368 annonces\n"
     ]
    }
   ],
   "source": [
    "a.filter_price(0,2000)"
   ]
  },
  {
   "cell_type": "code",
   "execution_count": null,
   "metadata": {},
   "outputs": [],
   "source": [
    "a.filter_surface(50,500)"
   ]
  },
  {
   "cell_type": "code",
   "execution_count": 18,
   "metadata": {},
   "outputs": [
    {
     "ename": "InvalidSelectorException",
     "evalue": "Message: invalid selector: Unable to locate an element with the xpath expression /html/body/div/div/div/div/div/div/div[2]/aside/section/button[1]] because of the following error:\nSyntaxError: Failed to execute 'evaluate' on 'Document': The string '/html/body/div/div/div/div/div/div/div[2]/aside/section/button[1]]' is not a valid XPath expression.\n  (Session info: headless chrome=106.0.5249.103)\nStacktrace:\n0   chromedriver                        0x0000000101913598 chromedriver + 4404632\n1   chromedriver                        0x000000010189afa3 chromedriver + 3911587\n2   chromedriver                        0x0000000101547e6a chromedriver + 425578\n3   chromedriver                        0x000000010154b037 chromedriver + 438327\n4   chromedriver                        0x000000010154aed7 chromedriver + 437975\n5   chromedriver                        0x000000010154b19c chromedriver + 438684\n6   chromedriver                        0x000000010157f9a0 chromedriver + 653728\n7   chromedriver                        0x000000010157fe91 chromedriver + 654993\n8   chromedriver                        0x00000001015b7274 chromedriver + 881268\n9   chromedriver                        0x000000010159ddcd chromedriver + 777677\n10  chromedriver                        0x00000001015b4f79 chromedriver + 872313\n11  chromedriver                        0x000000010159dbd3 chromedriver + 777171\n12  chromedriver                        0x0000000101572ced chromedriver + 601325\n13  chromedriver                        0x0000000101573e51 chromedriver + 605777\n14  chromedriver                        0x00000001018e30ce chromedriver + 4206798\n15  chromedriver                        0x00000001018e7797 chromedriver + 4224919\n16  chromedriver                        0x00000001018eea4f chromedriver + 4254287\n17  chromedriver                        0x00000001018e84da chromedriver + 4228314\n18  chromedriver                        0x00000001018c123f chromedriver + 4067903\n19  chromedriver                        0x00000001019056a8 chromedriver + 4347560\n20  chromedriver                        0x0000000101905816 chromedriver + 4347926\n21  chromedriver                        0x000000010191a8fe chromedriver + 4434174\n22  libsystem_pthread.dylib             0x00007fff68c1e109 _pthread_start + 148\n23  libsystem_pthread.dylib             0x00007fff68c19b8b thread_start + 15\n",
     "output_type": "error",
     "traceback": [
      "\u001b[0;31m---------------------------------------------------------------------------\u001b[0m",
      "\u001b[0;31mInvalidSelectorException\u001b[0m                  Traceback (most recent call last)",
      "Cell \u001b[0;32mIn [18], line 25\u001b[0m\n\u001b[1;32m     23\u001b[0m iframe \u001b[38;5;241m=\u001b[39m driver\u001b[38;5;241m.\u001b[39mfind_element(\u001b[38;5;124m'\u001b[39m\u001b[38;5;124mxpath\u001b[39m\u001b[38;5;124m'\u001b[39m,\u001b[38;5;124m\"\u001b[39m\u001b[38;5;124m//iframe[contains(@id,\u001b[39m\u001b[38;5;124m'\u001b[39m\u001b[38;5;124m'\u001b[39m\u001b[38;5;124m)]\u001b[39m\u001b[38;5;124m\"\u001b[39m)\n\u001b[1;32m     24\u001b[0m driver\u001b[38;5;241m.\u001b[39mswitch_to\u001b[38;5;241m.\u001b[39mframe(iframe)\n\u001b[0;32m---> 25\u001b[0m cookieAccpet \u001b[38;5;241m=\u001b[39m WebDriverWait(driver, \u001b[38;5;241m5\u001b[39m)\u001b[38;5;241m.\u001b[39muntil(EC\u001b[38;5;241m.\u001b[39melement_to_be_clickable((By\u001b[38;5;241m.\u001b[39mXPATH, \u001b[38;5;124m\"\u001b[39m\u001b[38;5;124m/html/body/div/div/div/div/div/div/div[2]/aside/section/button[1]]\u001b[39m\u001b[38;5;124m\"\u001b[39m)))\n\u001b[1;32m     26\u001b[0m cookieAccpet\u001b[38;5;241m.\u001b[39mclick()\n\u001b[1;32m     28\u001b[0m driver\u001b[38;5;241m.\u001b[39mswitch_to\u001b[38;5;241m.\u001b[39mdefault_content()\n",
      "File \u001b[0;32m~/opt/anaconda3/lib/python3.9/site-packages/selenium/webdriver/support/wait.py:81\u001b[0m, in \u001b[0;36mWebDriverWait.until\u001b[0;34m(self, method, message)\u001b[0m\n\u001b[1;32m     79\u001b[0m \u001b[39mwhile\u001b[39;00m \u001b[39mTrue\u001b[39;00m:\n\u001b[1;32m     80\u001b[0m     \u001b[39mtry\u001b[39;00m:\n\u001b[0;32m---> 81\u001b[0m         value \u001b[39m=\u001b[39m method(\u001b[39mself\u001b[39;49m\u001b[39m.\u001b[39;49m_driver)\n\u001b[1;32m     82\u001b[0m         \u001b[39mif\u001b[39;00m value:\n\u001b[1;32m     83\u001b[0m             \u001b[39mreturn\u001b[39;00m value\n",
      "File \u001b[0;32m~/opt/anaconda3/lib/python3.9/site-packages/selenium/webdriver/support/expected_conditions.py:312\u001b[0m, in \u001b[0;36melement_to_be_clickable.<locals>._predicate\u001b[0;34m(driver)\u001b[0m\n\u001b[1;32m    310\u001b[0m target \u001b[39m=\u001b[39m mark\n\u001b[1;32m    311\u001b[0m \u001b[39mif\u001b[39;00m \u001b[39mnot\u001b[39;00m \u001b[39misinstance\u001b[39m(target, WebElement):  \u001b[39m# if given locator instead of WebElement\u001b[39;00m\n\u001b[0;32m--> 312\u001b[0m     target \u001b[39m=\u001b[39m driver\u001b[39m.\u001b[39;49mfind_element(\u001b[39m*\u001b[39;49mtarget)  \u001b[39m# grab element at locator\u001b[39;00m\n\u001b[1;32m    313\u001b[0m target \u001b[39m=\u001b[39m visibility_of(target)(driver)\n\u001b[1;32m    314\u001b[0m \u001b[39mif\u001b[39;00m target \u001b[39mand\u001b[39;00m target\u001b[39m.\u001b[39mis_enabled():\n",
      "File \u001b[0;32m~/opt/anaconda3/lib/python3.9/site-packages/selenium/webdriver/remote/webdriver.py:857\u001b[0m, in \u001b[0;36mWebDriver.find_element\u001b[0;34m(self, by, value)\u001b[0m\n\u001b[1;32m    854\u001b[0m     by \u001b[39m=\u001b[39m By\u001b[39m.\u001b[39mCSS_SELECTOR\n\u001b[1;32m    855\u001b[0m     value \u001b[39m=\u001b[39m \u001b[39m'\u001b[39m\u001b[39m[name=\u001b[39m\u001b[39m\"\u001b[39m\u001b[39m%s\u001b[39;00m\u001b[39m\"\u001b[39m\u001b[39m]\u001b[39m\u001b[39m'\u001b[39m \u001b[39m%\u001b[39m value\n\u001b[0;32m--> 857\u001b[0m \u001b[39mreturn\u001b[39;00m \u001b[39mself\u001b[39;49m\u001b[39m.\u001b[39;49mexecute(Command\u001b[39m.\u001b[39;49mFIND_ELEMENT, {\n\u001b[1;32m    858\u001b[0m     \u001b[39m'\u001b[39;49m\u001b[39musing\u001b[39;49m\u001b[39m'\u001b[39;49m: by,\n\u001b[1;32m    859\u001b[0m     \u001b[39m'\u001b[39;49m\u001b[39mvalue\u001b[39;49m\u001b[39m'\u001b[39;49m: value})[\u001b[39m'\u001b[39m\u001b[39mvalue\u001b[39m\u001b[39m'\u001b[39m]\n",
      "File \u001b[0;32m~/opt/anaconda3/lib/python3.9/site-packages/selenium/webdriver/remote/webdriver.py:435\u001b[0m, in \u001b[0;36mWebDriver.execute\u001b[0;34m(self, driver_command, params)\u001b[0m\n\u001b[1;32m    433\u001b[0m response \u001b[39m=\u001b[39m \u001b[39mself\u001b[39m\u001b[39m.\u001b[39mcommand_executor\u001b[39m.\u001b[39mexecute(driver_command, params)\n\u001b[1;32m    434\u001b[0m \u001b[39mif\u001b[39;00m response:\n\u001b[0;32m--> 435\u001b[0m     \u001b[39mself\u001b[39;49m\u001b[39m.\u001b[39;49merror_handler\u001b[39m.\u001b[39;49mcheck_response(response)\n\u001b[1;32m    436\u001b[0m     response[\u001b[39m'\u001b[39m\u001b[39mvalue\u001b[39m\u001b[39m'\u001b[39m] \u001b[39m=\u001b[39m \u001b[39mself\u001b[39m\u001b[39m.\u001b[39m_unwrap_value(\n\u001b[1;32m    437\u001b[0m         response\u001b[39m.\u001b[39mget(\u001b[39m'\u001b[39m\u001b[39mvalue\u001b[39m\u001b[39m'\u001b[39m, \u001b[39mNone\u001b[39;00m))\n\u001b[1;32m    438\u001b[0m     \u001b[39mreturn\u001b[39;00m response\n",
      "File \u001b[0;32m~/opt/anaconda3/lib/python3.9/site-packages/selenium/webdriver/remote/errorhandler.py:247\u001b[0m, in \u001b[0;36mErrorHandler.check_response\u001b[0;34m(self, response)\u001b[0m\n\u001b[1;32m    245\u001b[0m         alert_text \u001b[39m=\u001b[39m value[\u001b[39m'\u001b[39m\u001b[39malert\u001b[39m\u001b[39m'\u001b[39m]\u001b[39m.\u001b[39mget(\u001b[39m'\u001b[39m\u001b[39mtext\u001b[39m\u001b[39m'\u001b[39m)\n\u001b[1;32m    246\u001b[0m     \u001b[39mraise\u001b[39;00m exception_class(message, screen, stacktrace, alert_text)  \u001b[39m# type: ignore[call-arg]  # mypy is not smart enough here\u001b[39;00m\n\u001b[0;32m--> 247\u001b[0m \u001b[39mraise\u001b[39;00m exception_class(message, screen, stacktrace)\n",
      "\u001b[0;31mInvalidSelectorException\u001b[0m: Message: invalid selector: Unable to locate an element with the xpath expression /html/body/div/div/div/div/div/div/div[2]/aside/section/button[1]] because of the following error:\nSyntaxError: Failed to execute 'evaluate' on 'Document': The string '/html/body/div/div/div/div/div/div/div[2]/aside/section/button[1]]' is not a valid XPath expression.\n  (Session info: headless chrome=106.0.5249.103)\nStacktrace:\n0   chromedriver                        0x0000000101913598 chromedriver + 4404632\n1   chromedriver                        0x000000010189afa3 chromedriver + 3911587\n2   chromedriver                        0x0000000101547e6a chromedriver + 425578\n3   chromedriver                        0x000000010154b037 chromedriver + 438327\n4   chromedriver                        0x000000010154aed7 chromedriver + 437975\n5   chromedriver                        0x000000010154b19c chromedriver + 438684\n6   chromedriver                        0x000000010157f9a0 chromedriver + 653728\n7   chromedriver                        0x000000010157fe91 chromedriver + 654993\n8   chromedriver                        0x00000001015b7274 chromedriver + 881268\n9   chromedriver                        0x000000010159ddcd chromedriver + 777677\n10  chromedriver                        0x00000001015b4f79 chromedriver + 872313\n11  chromedriver                        0x000000010159dbd3 chromedriver + 777171\n12  chromedriver                        0x0000000101572ced chromedriver + 601325\n13  chromedriver                        0x0000000101573e51 chromedriver + 605777\n14  chromedriver                        0x00000001018e30ce chromedriver + 4206798\n15  chromedriver                        0x00000001018e7797 chromedriver + 4224919\n16  chromedriver                        0x00000001018eea4f chromedriver + 4254287\n17  chromedriver                        0x00000001018e84da chromedriver + 4228314\n18  chromedriver                        0x00000001018c123f chromedriver + 4067903\n19  chromedriver                        0x00000001019056a8 chromedriver + 4347560\n20  chromedriver                        0x0000000101905816 chromedriver + 4347926\n21  chromedriver                        0x000000010191a8fe chromedriver + 4434174\n22  libsystem_pthread.dylib             0x00007fff68c1e109 _pthread_start + 148\n23  libsystem_pthread.dylib             0x00007fff68c19b8b thread_start + 15\n"
     ]
    }
   ],
   "source": [
    "from selenium import webdriver\n",
    "import warnings\n",
    "from selenium import webdriver\n",
    "from selenium.webdriver.support.ui import WebDriverWait\n",
    "from selenium.webdriver.support import expected_conditions as EC\n",
    "warnings.filterwarnings(\"ignore\")\n",
    "options = webdriver.ChromeOptions()\n",
    "options.add_argument(\"headless\")\n",
    "options.add_argument(\"start-maximized\")\n",
    "options.add_argument(\"--log-level=3\")\n",
    "from selenium.webdriver.chrome.service import Service\n",
    "from webdriver_manager.chrome import ChromeDriverManager\n",
    "from selenium.common.exceptions import StaleElementReferenceException, NoSuchElementException\n",
    "from selenium.webdriver.common.by import By\n",
    "\n",
    "url=\"https://immobilier.lefigaro.fr\"\n",
    "\n",
    "s = Service(ChromeDriverManager().install())\n",
    "driver = webdriver.Chrome(service=s, options=options)\n",
    "driver.maximize_window()\n",
    "driver.get(url)\n",
    "\n",
    "iframe = driver.find_element('xpath',\"//iframe[contains(@id,'')]\")\n",
    "driver.switch_to.frame(iframe)\n",
    "cookieAccpet = WebDriverWait(driver, 5).until(EC.element_to_be_clickable((By.XPATH, \"/html/body/div/div/div/div/div/div/div[2]/aside/section/button[1]]\")))\n",
    "cookieAccpet.click()\n",
    "\n",
    "driver.switch_to.default_content()\n",
    "\n",
    "#WebDriverWait(driver,20).until(EC.frame_to_be_available_and_switch_to_it((By.XPATH,\"//iframe[contains(@id,'')]\")))\n",
    "#WebDriverWait(driver,20).until(EC.element_to_be_clickable((By.XPATH,\"/html/body/div/div/div/div/div/div/div[2]/aside/section/button[1]\"))).click()\n",
    "driver.save_screenshot(\"premiere_page.png\")\n"
   ]
  },
  {
   "cell_type": "code",
   "execution_count": 28,
   "metadata": {},
   "outputs": [
    {
     "ename": "NoSuchElementException",
     "evalue": "Message: no such element: Unable to locate element: {\"method\":\"xpath\",\"selector\":\"//*[contains(text(), 'TOUT ACCEPTER')]\"}\n  (Session info: headless chrome=106.0.5249.103)\nStacktrace:\n0   chromedriver                        0x0000000108ddb598 chromedriver + 4404632\n1   chromedriver                        0x0000000108d62fa3 chromedriver + 3911587\n2   chromedriver                        0x0000000108a0fe6a chromedriver + 425578\n3   chromedriver                        0x0000000108a47c91 chromedriver + 654481\n4   chromedriver                        0x0000000108a47e91 chromedriver + 654993\n5   chromedriver                        0x0000000108a7f274 chromedriver + 881268\n6   chromedriver                        0x0000000108a65dcd chromedriver + 777677\n7   chromedriver                        0x0000000108a7cf79 chromedriver + 872313\n8   chromedriver                        0x0000000108a65bd3 chromedriver + 777171\n9   chromedriver                        0x0000000108a3aced chromedriver + 601325\n10  chromedriver                        0x0000000108a3be51 chromedriver + 605777\n11  chromedriver                        0x0000000108dab0ce chromedriver + 4206798\n12  chromedriver                        0x0000000108daf797 chromedriver + 4224919\n13  chromedriver                        0x0000000108db6a4f chromedriver + 4254287\n14  chromedriver                        0x0000000108db04da chromedriver + 4228314\n15  chromedriver                        0x0000000108d8923f chromedriver + 4067903\n16  chromedriver                        0x0000000108dcd6a8 chromedriver + 4347560\n17  chromedriver                        0x0000000108dcd816 chromedriver + 4347926\n18  chromedriver                        0x0000000108de28fe chromedriver + 4434174\n19  libsystem_pthread.dylib             0x00007fff68c1e109 _pthread_start + 148\n20  libsystem_pthread.dylib             0x00007fff68c19b8b thread_start + 15\n",
     "output_type": "error",
     "traceback": [
      "\u001b[0;31m---------------------------------------------------------------------------\u001b[0m",
      "\u001b[0;31mNoSuchElementException\u001b[0m                    Traceback (most recent call last)",
      "Cell \u001b[0;32mIn [28], line 13\u001b[0m\n\u001b[1;32m     11\u001b[0m driver\u001b[38;5;241m.\u001b[39mimplicitly_wait(\u001b[38;5;241m3\u001b[39m)\n\u001b[1;32m     12\u001b[0m driver\u001b[38;5;241m.\u001b[39msave_screenshot(\u001b[38;5;124m\"\u001b[39m\u001b[38;5;124mtest_checkbar.png\u001b[39m\u001b[38;5;124m\"\u001b[39m)\n\u001b[0;32m---> 13\u001b[0m driver\u001b[38;5;241m.\u001b[39mfind_element(By\u001b[38;5;241m.\u001b[39mXPATH,\u001b[38;5;124m\"\u001b[39m\u001b[38;5;124m//*[contains(text(), \u001b[39m\u001b[38;5;124m'\u001b[39m\u001b[38;5;124mTOUT ACCEPTER\u001b[39m\u001b[38;5;124m'\u001b[39m\u001b[38;5;124m)]\u001b[39m\u001b[38;5;124m\"\u001b[39m)\n",
      "File \u001b[0;32m~/opt/anaconda3/lib/python3.9/site-packages/selenium/webdriver/remote/webdriver.py:857\u001b[0m, in \u001b[0;36mWebDriver.find_element\u001b[0;34m(self, by, value)\u001b[0m\n\u001b[1;32m    854\u001b[0m     by \u001b[39m=\u001b[39m By\u001b[39m.\u001b[39mCSS_SELECTOR\n\u001b[1;32m    855\u001b[0m     value \u001b[39m=\u001b[39m \u001b[39m'\u001b[39m\u001b[39m[name=\u001b[39m\u001b[39m\"\u001b[39m\u001b[39m%s\u001b[39;00m\u001b[39m\"\u001b[39m\u001b[39m]\u001b[39m\u001b[39m'\u001b[39m \u001b[39m%\u001b[39m value\n\u001b[0;32m--> 857\u001b[0m \u001b[39mreturn\u001b[39;00m \u001b[39mself\u001b[39;49m\u001b[39m.\u001b[39;49mexecute(Command\u001b[39m.\u001b[39;49mFIND_ELEMENT, {\n\u001b[1;32m    858\u001b[0m     \u001b[39m'\u001b[39;49m\u001b[39musing\u001b[39;49m\u001b[39m'\u001b[39;49m: by,\n\u001b[1;32m    859\u001b[0m     \u001b[39m'\u001b[39;49m\u001b[39mvalue\u001b[39;49m\u001b[39m'\u001b[39;49m: value})[\u001b[39m'\u001b[39m\u001b[39mvalue\u001b[39m\u001b[39m'\u001b[39m]\n",
      "File \u001b[0;32m~/opt/anaconda3/lib/python3.9/site-packages/selenium/webdriver/remote/webdriver.py:435\u001b[0m, in \u001b[0;36mWebDriver.execute\u001b[0;34m(self, driver_command, params)\u001b[0m\n\u001b[1;32m    433\u001b[0m response \u001b[39m=\u001b[39m \u001b[39mself\u001b[39m\u001b[39m.\u001b[39mcommand_executor\u001b[39m.\u001b[39mexecute(driver_command, params)\n\u001b[1;32m    434\u001b[0m \u001b[39mif\u001b[39;00m response:\n\u001b[0;32m--> 435\u001b[0m     \u001b[39mself\u001b[39;49m\u001b[39m.\u001b[39;49merror_handler\u001b[39m.\u001b[39;49mcheck_response(response)\n\u001b[1;32m    436\u001b[0m     response[\u001b[39m'\u001b[39m\u001b[39mvalue\u001b[39m\u001b[39m'\u001b[39m] \u001b[39m=\u001b[39m \u001b[39mself\u001b[39m\u001b[39m.\u001b[39m_unwrap_value(\n\u001b[1;32m    437\u001b[0m         response\u001b[39m.\u001b[39mget(\u001b[39m'\u001b[39m\u001b[39mvalue\u001b[39m\u001b[39m'\u001b[39m, \u001b[39mNone\u001b[39;00m))\n\u001b[1;32m    438\u001b[0m     \u001b[39mreturn\u001b[39;00m response\n",
      "File \u001b[0;32m~/opt/anaconda3/lib/python3.9/site-packages/selenium/webdriver/remote/errorhandler.py:247\u001b[0m, in \u001b[0;36mErrorHandler.check_response\u001b[0;34m(self, response)\u001b[0m\n\u001b[1;32m    245\u001b[0m         alert_text \u001b[39m=\u001b[39m value[\u001b[39m'\u001b[39m\u001b[39malert\u001b[39m\u001b[39m'\u001b[39m]\u001b[39m.\u001b[39mget(\u001b[39m'\u001b[39m\u001b[39mtext\u001b[39m\u001b[39m'\u001b[39m)\n\u001b[1;32m    246\u001b[0m     \u001b[39mraise\u001b[39;00m exception_class(message, screen, stacktrace, alert_text)  \u001b[39m# type: ignore[call-arg]  # mypy is not smart enough here\u001b[39;00m\n\u001b[0;32m--> 247\u001b[0m \u001b[39mraise\u001b[39;00m exception_class(message, screen, stacktrace)\n",
      "\u001b[0;31mNoSuchElementException\u001b[0m: Message: no such element: Unable to locate element: {\"method\":\"xpath\",\"selector\":\"//*[contains(text(), 'TOUT ACCEPTER')]\"}\n  (Session info: headless chrome=106.0.5249.103)\nStacktrace:\n0   chromedriver                        0x0000000108ddb598 chromedriver + 4404632\n1   chromedriver                        0x0000000108d62fa3 chromedriver + 3911587\n2   chromedriver                        0x0000000108a0fe6a chromedriver + 425578\n3   chromedriver                        0x0000000108a47c91 chromedriver + 654481\n4   chromedriver                        0x0000000108a47e91 chromedriver + 654993\n5   chromedriver                        0x0000000108a7f274 chromedriver + 881268\n6   chromedriver                        0x0000000108a65dcd chromedriver + 777677\n7   chromedriver                        0x0000000108a7cf79 chromedriver + 872313\n8   chromedriver                        0x0000000108a65bd3 chromedriver + 777171\n9   chromedriver                        0x0000000108a3aced chromedriver + 601325\n10  chromedriver                        0x0000000108a3be51 chromedriver + 605777\n11  chromedriver                        0x0000000108dab0ce chromedriver + 4206798\n12  chromedriver                        0x0000000108daf797 chromedriver + 4224919\n13  chromedriver                        0x0000000108db6a4f chromedriver + 4254287\n14  chromedriver                        0x0000000108db04da chromedriver + 4228314\n15  chromedriver                        0x0000000108d8923f chromedriver + 4067903\n16  chromedriver                        0x0000000108dcd6a8 chromedriver + 4347560\n17  chromedriver                        0x0000000108dcd816 chromedriver + 4347926\n18  chromedriver                        0x0000000108de28fe chromedriver + 4434174\n19  libsystem_pthread.dylib             0x00007fff68c1e109 _pthread_start + 148\n20  libsystem_pthread.dylib             0x00007fff68c19b8b thread_start + 15\n"
     ]
    }
   ],
   "source": [
    "\n",
    "localisation_button = driver.find_element(\n",
    "            \"xpath\", '//*[@id=\"search-engine\"]/div/div[1]/div[2]/div/span/span'\n",
    "        )\n",
    "driver.execute_script(\"arguments[0].click();\", localisation_button)\n",
    "driver.find_element(\n",
    "                \"xpath\",\n",
    "                \"//*[@id='search-engine']/div/div[1]/div[2]/div[2]/div[2]/div/div/input\",\n",
    "            ).send_keys(\"LYON\")\n",
    "driver.implicitly_wait(3)\n",
    "driver.save_screenshot(\"test_checkbar.png\")\n",
    "driver.find_element(By.XPATH,\"//*[contains(text(), 'TOUT ACCEPTER')]\")\n",
    "#driver.find_element(By.CLASS_NAME, \"suggestions-locations\").text"
   ]
  },
  {
   "cell_type": "code",
   "execution_count": 10,
   "metadata": {},
   "outputs": [
    {
     "data": {
      "text/plain": [
       "True"
      ]
     },
     "execution_count": 10,
     "metadata": {},
     "output_type": "execute_result"
    }
   ],
   "source": [
    "driver.save_screenshot(\"premiere_page.png\")"
   ]
  },
  {
   "cell_type": "code",
   "execution_count": 41,
   "metadata": {},
   "outputs": [],
   "source": [
    "from selenium import webdriver\n",
    "import warnings\n",
    "from selenium import webdriver\n",
    "from selenium.webdriver.support.ui import WebDriverWait\n",
    "from selenium.webdriver.support import expected_conditions as EC\n",
    "warnings.filterwarnings(\"ignore\")\n",
    "options = webdriver.ChromeOptions()\n",
    "options.add_argument(\"headless\")\n",
    "options.add_argument(\"start-maximized\")\n",
    "options.add_argument(\"--log-level=3\")\n",
    "from selenium.webdriver.chrome.service import Service\n",
    "from webdriver_manager.chrome import ChromeDriverManager\n",
    "from selenium.common.exceptions import StaleElementReferenceException, NoSuchElementException\n",
    "from selenium.webdriver.common.by import By\n",
    "from time import sleep\n",
    "url=\"https://immobilier.lefigaro.fr\"\n",
    "\n",
    "s = Service(ChromeDriverManager().install())\n",
    "driver = webdriver.Chrome(service=s, options=options)\n",
    "driver.maximize_window()\n",
    "driver.get(url)\n",
    "wait = WebDriverWait(driver, 2)\n",
    "wait.until(EC.frame_to_be_available_and_switch_to_it((By.XPATH, '//*[@id=\"appconsent\"]/iframe')))\n",
    "accept=driver.find_element(\"xpath\",'/html/body/div/div/div/div/div/div/div[2]/aside/section/button[1]')\n",
    "driver.execute_script(\"arguments[0].click();\", accept)\n",
    "\n",
    "sleep(3)\n",
    "driver.switch_to.parent_frame()\n",
    "driver.save_screenshot(\"victoire.png\")\n",
    "sleep(3)\n",
    "#driver.switch_to.frame(driver.find_element(By.CLASS_NAME,\"sc-sq9wn4-0 cDeLfA banner banner--modal\"))"
   ]
  },
  {
   "cell_type": "code",
   "execution_count": 40,
   "metadata": {},
   "outputs": [],
   "source": [
    "wait = WebDriverWait(driver, 2)\n",
    "wait.until(EC.frame_to_be_available_and_switch_to_it((By.XPATH, '//*[@id=\"appconsent\"]/iframe')))\n",
    "accept=driver.find_element(\"xpath\",'/html/body/div/div/div/div/div/div/div[2]/aside/section/button[1]')\n",
    "driver.execute_script(\"arguments[0].click();\", accept)"
   ]
  },
  {
   "cell_type": "code",
   "execution_count": null,
   "metadata": {},
   "outputs": [],
   "source": []
  }
 ],
 "metadata": {
  "kernelspec": {
   "display_name": "Python 3.9.12 ('base')",
   "language": "python",
   "name": "python3"
  },
  "language_info": {
   "codemirror_mode": {
    "name": "ipython",
    "version": 3
   },
   "file_extension": ".py",
   "mimetype": "text/x-python",
   "name": "python",
   "nbconvert_exporter": "python",
   "pygments_lexer": "ipython3",
   "version": "3.9.12"
  },
  "orig_nbformat": 4,
  "vscode": {
   "interpreter": {
    "hash": "9d88e75428781c8dbfcf983f3d3ee2e05705b6c25b0cfb94ac5c293e65f95f02"
   }
  }
 },
 "nbformat": 4,
 "nbformat_minor": 2
}
