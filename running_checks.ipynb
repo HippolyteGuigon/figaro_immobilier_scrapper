{
 "cells": [
  {
   "cell_type": "code",
   "execution_count": 1,
   "metadata": {},
   "outputs": [],
   "source": [
    "from src.scrapper.scrapper import *"
   ]
  },
  {
   "cell_type": "code",
   "execution_count": null,
   "metadata": {},
   "outputs": [],
   "source": []
  },
  {
   "cell_type": "code",
   "execution_count": 2,
   "metadata": {},
   "outputs": [
    {
     "name": "stdout",
     "output_type": "stream",
     "text": [
      "2022-10-24 21:48:39,292 | INFO | La connexion à la page d'acceuil a bien réussie\n",
      "2022-10-24 21:48:39,295 | WARNING | L'utilisateur a choisi l'otion louer\n",
      "2022-10-24 21:48:44,933 | INFO | La recherche a bien aboutie\n",
      "2022-10-24 21:48:48,936 | WARNING | L'utilisateur a choisi la région Paris\n",
      "Location biens immobiliers à Paris (75) : 29 032 annonces\n",
      "2022-10-24 21:49:09,587 | WARNING | Le filtrage a bien été opéré sur  Paris (75) , il y a 2 611 annonces\n",
      "2022-10-24 21:49:22,715 | INFO | L'utilisateur a filtré la surface entre 35m2 et 10000m2, il y a 1 731 annonces\n",
      "2022-10-24 21:49:34,900 | INFO | L'utilisateur a filtré les prix entre 10€ et 3500€, il y a 1 065 annonces\n"
     ]
    }
   ],
   "source": [
    "a=Scrapper(\"louer\",[\"Paris\"],35,10000,10,3500)"
   ]
  },
  {
   "cell_type": "code",
   "execution_count": 3,
   "metadata": {},
   "outputs": [],
   "source": [
    "a.get_links()"
   ]
  },
  {
   "cell_type": "code",
   "execution_count": null,
   "metadata": {},
   "outputs": [
    {
     "name": "stdout",
     "output_type": "stream",
     "text": [
      "2022-10-21 02:09:22,160 | WARNING | Le scrapping vient de commencer\n"
     ]
    },
    {
     "name": "stderr",
     "output_type": "stream",
     "text": [
      " 85%|████████▌ | 884/1034 [10:59:58<1:51:59, 44.80s/it]\n"
     ]
    },
    {
     "ename": "WebDriverException",
     "evalue": "Message: disconnected: Unable to receive message from renderer\n  (failed to check if window was closed: timeout: Timed out receiving message from renderer: 600.000)\n  (Session info: headless chrome=106.0.5249.119)\nStacktrace:\n0   chromedriver                        0x0000000109268598 chromedriver + 4404632\n1   chromedriver                        0x00000001091effa3 chromedriver + 3911587\n2   chromedriver                        0x0000000108e9ce6a chromedriver + 425578\n3   chromedriver                        0x0000000108e896bb chromedriver + 345787\n4   chromedriver                        0x0000000108e89572 chromedriver + 345458\n5   chromedriver                        0x0000000108e884ca chromedriver + 341194\n6   chromedriver                        0x0000000108e88862 chromedriver + 342114\n7   chromedriver                        0x0000000108e9eb6e chromedriver + 433006\n8   chromedriver                        0x0000000108f0a7af chromedriver + 874415\n9   chromedriver                        0x0000000108ef2da2 chromedriver + 777634\n10  chromedriver                        0x0000000108f09f79 chromedriver + 872313\n11  chromedriver                        0x0000000108ef2bd3 chromedriver + 777171\n12  chromedriver                        0x0000000108ec7ced chromedriver + 601325\n13  chromedriver                        0x0000000108ec8e51 chromedriver + 605777\n14  chromedriver                        0x00000001092380ce chromedriver + 4206798\n15  chromedriver                        0x000000010923c797 chromedriver + 4224919\n16  chromedriver                        0x0000000109243a4f chromedriver + 4254287\n17  chromedriver                        0x000000010923d4da chromedriver + 4228314\n18  chromedriver                        0x000000010921623f chromedriver + 4067903\n19  chromedriver                        0x000000010925a6a8 chromedriver + 4347560\n20  chromedriver                        0x000000010925a816 chromedriver + 4347926\n21  chromedriver                        0x000000010926f8fe chromedriver + 4434174\n22  libsystem_pthread.dylib             0x00007fff6a8bc109 _pthread_start + 148\n23  libsystem_pthread.dylib             0x00007fff6a8b7b8b thread_start + 15\n",
     "output_type": "error",
     "traceback": [
      "\u001b[0;31m---------------------------------------------------------------------------\u001b[0m",
      "\u001b[0;31mWebDriverException\u001b[0m                        Traceback (most recent call last)",
      "Cell \u001b[0;32mIn [3], line 1\u001b[0m\n\u001b[0;32m----> 1\u001b[0m a\u001b[39m.\u001b[39mlaunch_scrapping()\n",
      "File \u001b[0;32m~/se_loger_scrapping/figaro_immobilier_scrapper/scrapper/scrapper.py:394\u001b[0m, in \u001b[0;36mScrapper.launch_scrapping\u001b[0;34m(self)\u001b[0m\n\u001b[1;32m    392\u001b[0m \u001b[39mfor\u001b[39;00m link_scrap \u001b[39min\u001b[39;00m tqdm(data_to_scrap):\n\u001b[1;32m    393\u001b[0m     \u001b[39mif\u001b[39;00m link_scrap \u001b[39mnot\u001b[39;00m \u001b[39min\u001b[39;00m data_scrapped:\n\u001b[0;32m--> 394\u001b[0m         driver\u001b[39m.\u001b[39;49mget(link_scrap)\n\u001b[1;32m    396\u001b[0m         \u001b[39mif\u001b[39;00m \u001b[39m\"\u001b[39m\u001b[39mCette annonce a expiré\u001b[39m\u001b[39m\"\u001b[39m \u001b[39min\u001b[39;00m driver\u001b[39m.\u001b[39mpage_source:\n\u001b[1;32m    397\u001b[0m             \u001b[39mpass\u001b[39;00m\n",
      "File \u001b[0;32m~/opt/anaconda3/lib/python3.9/site-packages/selenium/webdriver/remote/webdriver.py:441\u001b[0m, in \u001b[0;36mWebDriver.get\u001b[0;34m(self, url)\u001b[0m\n\u001b[1;32m    437\u001b[0m \u001b[39mdef\u001b[39;00m \u001b[39mget\u001b[39m(\u001b[39mself\u001b[39m, url: \u001b[39mstr\u001b[39m) \u001b[39m-\u001b[39m\u001b[39m>\u001b[39m \u001b[39mNone\u001b[39;00m:\n\u001b[1;32m    438\u001b[0m     \u001b[39m\"\"\"\u001b[39;00m\n\u001b[1;32m    439\u001b[0m \u001b[39m    Loads a web page in the current browser session.\u001b[39;00m\n\u001b[1;32m    440\u001b[0m \u001b[39m    \"\"\"\u001b[39;00m\n\u001b[0;32m--> 441\u001b[0m     \u001b[39mself\u001b[39;49m\u001b[39m.\u001b[39;49mexecute(Command\u001b[39m.\u001b[39;49mGET, {\u001b[39m'\u001b[39;49m\u001b[39murl\u001b[39;49m\u001b[39m'\u001b[39;49m: url})\n",
      "File \u001b[0;32m~/opt/anaconda3/lib/python3.9/site-packages/selenium/webdriver/remote/webdriver.py:429\u001b[0m, in \u001b[0;36mWebDriver.execute\u001b[0;34m(self, driver_command, params)\u001b[0m\n\u001b[1;32m    427\u001b[0m response \u001b[39m=\u001b[39m \u001b[39mself\u001b[39m\u001b[39m.\u001b[39mcommand_executor\u001b[39m.\u001b[39mexecute(driver_command, params)\n\u001b[1;32m    428\u001b[0m \u001b[39mif\u001b[39;00m response:\n\u001b[0;32m--> 429\u001b[0m     \u001b[39mself\u001b[39;49m\u001b[39m.\u001b[39;49merror_handler\u001b[39m.\u001b[39;49mcheck_response(response)\n\u001b[1;32m    430\u001b[0m     response[\u001b[39m'\u001b[39m\u001b[39mvalue\u001b[39m\u001b[39m'\u001b[39m] \u001b[39m=\u001b[39m \u001b[39mself\u001b[39m\u001b[39m.\u001b[39m_unwrap_value(\n\u001b[1;32m    431\u001b[0m         response\u001b[39m.\u001b[39mget(\u001b[39m'\u001b[39m\u001b[39mvalue\u001b[39m\u001b[39m'\u001b[39m, \u001b[39mNone\u001b[39;00m))\n\u001b[1;32m    432\u001b[0m     \u001b[39mreturn\u001b[39;00m response\n",
      "File \u001b[0;32m~/opt/anaconda3/lib/python3.9/site-packages/selenium/webdriver/remote/errorhandler.py:243\u001b[0m, in \u001b[0;36mErrorHandler.check_response\u001b[0;34m(self, response)\u001b[0m\n\u001b[1;32m    241\u001b[0m         alert_text \u001b[39m=\u001b[39m value[\u001b[39m'\u001b[39m\u001b[39malert\u001b[39m\u001b[39m'\u001b[39m]\u001b[39m.\u001b[39mget(\u001b[39m'\u001b[39m\u001b[39mtext\u001b[39m\u001b[39m'\u001b[39m)\n\u001b[1;32m    242\u001b[0m     \u001b[39mraise\u001b[39;00m exception_class(message, screen, stacktrace, alert_text)  \u001b[39m# type: ignore[call-arg]  # mypy is not smart enough here\u001b[39;00m\n\u001b[0;32m--> 243\u001b[0m \u001b[39mraise\u001b[39;00m exception_class(message, screen, stacktrace)\n",
      "\u001b[0;31mWebDriverException\u001b[0m: Message: disconnected: Unable to receive message from renderer\n  (failed to check if window was closed: timeout: Timed out receiving message from renderer: 600.000)\n  (Session info: headless chrome=106.0.5249.119)\nStacktrace:\n0   chromedriver                        0x0000000109268598 chromedriver + 4404632\n1   chromedriver                        0x00000001091effa3 chromedriver + 3911587\n2   chromedriver                        0x0000000108e9ce6a chromedriver + 425578\n3   chromedriver                        0x0000000108e896bb chromedriver + 345787\n4   chromedriver                        0x0000000108e89572 chromedriver + 345458\n5   chromedriver                        0x0000000108e884ca chromedriver + 341194\n6   chromedriver                        0x0000000108e88862 chromedriver + 342114\n7   chromedriver                        0x0000000108e9eb6e chromedriver + 433006\n8   chromedriver                        0x0000000108f0a7af chromedriver + 874415\n9   chromedriver                        0x0000000108ef2da2 chromedriver + 777634\n10  chromedriver                        0x0000000108f09f79 chromedriver + 872313\n11  chromedriver                        0x0000000108ef2bd3 chromedriver + 777171\n12  chromedriver                        0x0000000108ec7ced chromedriver + 601325\n13  chromedriver                        0x0000000108ec8e51 chromedriver + 605777\n14  chromedriver                        0x00000001092380ce chromedriver + 4206798\n15  chromedriver                        0x000000010923c797 chromedriver + 4224919\n16  chromedriver                        0x0000000109243a4f chromedriver + 4254287\n17  chromedriver                        0x000000010923d4da chromedriver + 4228314\n18  chromedriver                        0x000000010921623f chromedriver + 4067903\n19  chromedriver                        0x000000010925a6a8 chromedriver + 4347560\n20  chromedriver                        0x000000010925a816 chromedriver + 4347926\n21  chromedriver                        0x000000010926f8fe chromedriver + 4434174\n22  libsystem_pthread.dylib             0x00007fff6a8bc109 _pthread_start + 148\n23  libsystem_pthread.dylib             0x00007fff6a8b7b8b thread_start + 15\n"
     ]
    }
   ],
   "source": [
    "a.launch_scrapping()"
   ]
  },
  {
   "cell_type": "code",
   "execution_count": 6,
   "metadata": {},
   "outputs": [],
   "source": [
    "df=pd.read_csv(\"/Users/hippodouche/se_loger_scrapping/figaro_immobilier_scrapper/data_results/Paris_11/df_Paris_11.csv\")"
   ]
  },
  {
   "cell_type": "code",
   "execution_count": 7,
   "metadata": {},
   "outputs": [
    {
     "data": {
      "text/html": [
       "<div>\n",
       "<style scoped>\n",
       "    .dataframe tbody tr th:only-of-type {\n",
       "        vertical-align: middle;\n",
       "    }\n",
       "\n",
       "    .dataframe tbody tr th {\n",
       "        vertical-align: top;\n",
       "    }\n",
       "\n",
       "    .dataframe thead th {\n",
       "        text-align: right;\n",
       "    }\n",
       "</style>\n",
       "<table border=\"1\" class=\"dataframe\">\n",
       "  <thead>\n",
       "    <tr style=\"text-align: right;\">\n",
       "      <th></th>\n",
       "      <th>Unnamed: 0</th>\n",
       "      <th>price</th>\n",
       "      <th>surface</th>\n",
       "      <th>localisation</th>\n",
       "      <th>description</th>\n",
       "      <th>nombre_pieces</th>\n",
       "      <th>rue</th>\n",
       "      <th>link</th>\n",
       "    </tr>\n",
       "  </thead>\n",
       "  <tbody>\n",
       "  </tbody>\n",
       "</table>\n",
       "</div>"
      ],
      "text/plain": [
       "Empty DataFrame\n",
       "Columns: [Unnamed: 0, price, surface, localisation, description, nombre_pieces, rue, link]\n",
       "Index: []"
      ]
     },
     "execution_count": 7,
     "metadata": {},
     "output_type": "execute_result"
    }
   ],
   "source": [
    "df"
   ]
  },
  {
   "cell_type": "code",
   "execution_count": 9,
   "metadata": {},
   "outputs": [
    {
     "data": {
      "text/plain": [
       "'Paris'"
      ]
     },
     "execution_count": 9,
     "metadata": {},
     "output_type": "execute_result"
    }
   ],
   "source": [
    "\"Paris 12\".rstrip(' 0123456789')"
   ]
  },
  {
   "cell_type": "code",
   "execution_count": null,
   "metadata": {},
   "outputs": [],
   "source": []
  }
 ],
 "metadata": {
  "kernelspec": {
   "display_name": "Python 3.9.12 ('base')",
   "language": "python",
   "name": "python3"
  },
  "language_info": {
   "codemirror_mode": {
    "name": "ipython",
    "version": 3
   },
   "file_extension": ".py",
   "mimetype": "text/x-python",
   "name": "python",
   "nbconvert_exporter": "python",
   "pygments_lexer": "ipython3",
   "version": "3.9.12"
  },
  "orig_nbformat": 4,
  "vscode": {
   "interpreter": {
    "hash": "9d88e75428781c8dbfcf983f3d3ee2e05705b6c25b0cfb94ac5c293e65f95f02"
   }
  }
 },
 "nbformat": 4,
 "nbformat_minor": 2
}
