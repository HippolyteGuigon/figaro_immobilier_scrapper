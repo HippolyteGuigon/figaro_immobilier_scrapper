{
 "cells": [
  {
   "cell_type": "code",
   "execution_count": 1,
   "metadata": {},
   "outputs": [],
   "source": [
    "from scrapper import scrapper"
   ]
  },
  {
   "cell_type": "code",
   "execution_count": 2,
   "metadata": {},
   "outputs": [],
   "source": [
    "a = scrapper.Scrapper()"
   ]
  },
  {
   "cell_type": "code",
   "execution_count": 3,
   "metadata": {},
   "outputs": [
    {
     "data": {
      "text/plain": [
       "<module 'logs.logs_config' from '/Users/hippodouche/se_loger_scrapping/figaro_immobilier_scrapper/logs/logs_config.py'>"
      ]
     },
     "execution_count": 3,
     "metadata": {},
     "output_type": "execute_result"
    }
   ],
   "source": [
    "import scrapper.scrapper as mc\n",
    "import logs.logs_config as mc2\n",
    "import importlib\n",
    "\n",
    "importlib.reload(mc)\n",
    "importlib.reload(mc2)\n"
   ]
  },
  {
   "cell_type": "code",
   "execution_count": 4,
   "metadata": {},
   "outputs": [
    {
     "name": "stdout",
     "output_type": "stream",
     "text": [
      "2022-10-08 20:12:56,294 | INFO | La connexion à la page d'acceuil a bien réussie\n"
     ]
    }
   ],
   "source": [
    "a = scrapper.Scrapper()\n",
    "\n",
    "a.check_connect()"
   ]
  },
  {
   "cell_type": "code",
   "execution_count": 5,
   "metadata": {},
   "outputs": [
    {
     "name": "stdout",
     "output_type": "stream",
     "text": [
      "2022-10-08 20:12:56,651 | WARNING | L'utilisateur a choisi l'otion louer\n",
      "2022-10-08 20:12:57,902 | INFO | La recherche a bien aboutie\n"
     ]
    }
   ],
   "source": [
    "a.search_type(\"louer\")"
   ]
  },
  {
   "cell_type": "code",
   "execution_count": 6,
   "metadata": {},
   "outputs": [
    {
     "name": "stdout",
     "output_type": "stream",
     "text": [
      "2022-10-08 20:13:00,069 | WARNING | L'utilisateur a choisi les régions: 'Paris', 'Lyon', 'Marseille'\n"
     ]
    },
    {
     "ename": "StaleElementReferenceException",
     "evalue": "Message: stale element reference: element is not attached to the page document\n  (Session info: headless chrome=106.0.5249.103)\nStacktrace:\n0   chromedriver                        0x000000010114e598 chromedriver + 4404632\n1   chromedriver                        0x00000001010d5fa3 chromedriver + 3911587\n2   chromedriver                        0x0000000100d82e6a chromedriver + 425578\n3   chromedriver                        0x0000000100d86037 chromedriver + 438327\n4   chromedriver                        0x0000000100d85ed7 chromedriver + 437975\n5   chromedriver                        0x0000000100d86b00 chromedriver + 441088\n6   chromedriver                        0x0000000100df0c1f chromedriver + 875551\n7   chromedriver                        0x0000000100dd8da2 chromedriver + 777634\n8   chromedriver                        0x0000000100deff79 chromedriver + 872313\n9   chromedriver                        0x0000000100dd8bd3 chromedriver + 777171\n10  chromedriver                        0x0000000100dadced chromedriver + 601325\n11  chromedriver                        0x0000000100daee51 chromedriver + 605777\n12  chromedriver                        0x000000010111e0ce chromedriver + 4206798\n13  chromedriver                        0x0000000101122797 chromedriver + 4224919\n14  chromedriver                        0x0000000101129a4f chromedriver + 4254287\n15  chromedriver                        0x00000001011234da chromedriver + 4228314\n16  chromedriver                        0x00000001010fc23f chromedriver + 4067903\n17  chromedriver                        0x00000001011406a8 chromedriver + 4347560\n18  chromedriver                        0x0000000101140816 chromedriver + 4347926\n19  chromedriver                        0x00000001011558fe chromedriver + 4434174\n20  libsystem_pthread.dylib             0x00007fff68c1e109 _pthread_start + 148\n21  libsystem_pthread.dylib             0x00007fff68c19b8b thread_start + 15\n",
     "output_type": "error",
     "traceback": [
      "\u001b[0;31m---------------------------------------------------------------------------\u001b[0m",
      "\u001b[0;31mStaleElementReferenceException\u001b[0m            Traceback (most recent call last)",
      "Cell \u001b[0;32mIn [6], line 1\u001b[0m\n\u001b[0;32m----> 1\u001b[0m a\u001b[38;5;241m.\u001b[39mfilter_search([\u001b[38;5;124m\"\u001b[39m\u001b[38;5;124mParis\u001b[39m\u001b[38;5;124m\"\u001b[39m,\u001b[38;5;124m\"\u001b[39m\u001b[38;5;124mLyon\u001b[39m\u001b[38;5;124m\"\u001b[39m,\u001b[38;5;124m\"\u001b[39m\u001b[38;5;124mMarseille\u001b[39m\u001b[38;5;124m\"\u001b[39m])\n",
      "File \u001b[0;32m~/se_loger_scrapping/figaro_immobilier_scrapper/scrapper/scrapper.py:135\u001b[0m, in \u001b[0;36mScrapper.filter_search\u001b[0;34m(self, ville)\u001b[0m\n\u001b[1;32m    129\u001b[0m     driver\u001b[39m.\u001b[39mimplicitly_wait(\u001b[39m2\u001b[39m)\n\u001b[1;32m    130\u001b[0m     first_choice \u001b[39m=\u001b[39m driver\u001b[39m.\u001b[39mfind_element(\n\u001b[1;32m    131\u001b[0m         \u001b[39m\"\u001b[39m\u001b[39mxpath\u001b[39m\u001b[39m\"\u001b[39m,\n\u001b[1;32m    132\u001b[0m         \u001b[39m\"\u001b[39m\u001b[39m//*[@id=\u001b[39m\u001b[39m'\u001b[39m\u001b[39msearch-engine\u001b[39m\u001b[39m'\u001b[39m\u001b[39m]/div/div[1]/div[2]/div[2]/div[2]/div/div[2]/div/div/div[1]/div/div[1]\u001b[39m\u001b[39m\"\u001b[39m,\n\u001b[1;32m    133\u001b[0m     )\n\u001b[0;32m--> 135\u001b[0m     driver\u001b[39m.\u001b[39;49mexecute_script(\u001b[39m\"\u001b[39;49m\u001b[39marguments[0].click();\u001b[39;49m\u001b[39m\"\u001b[39;49m, first_choice)\n\u001b[1;32m    138\u001b[0m result_filter \u001b[39m=\u001b[39m driver\u001b[39m.\u001b[39mfind_element(\n\u001b[1;32m    139\u001b[0m     \u001b[39m\"\u001b[39m\u001b[39mxpath\u001b[39m\u001b[39m\"\u001b[39m, \u001b[39m'\u001b[39m\u001b[39m//*[@id=\u001b[39m\u001b[39m\"\u001b[39m\u001b[39mbloc-list-classifieds\u001b[39m\u001b[39m\"\u001b[39m\u001b[39m]\u001b[39m\u001b[39m'\u001b[39m\n\u001b[1;32m    140\u001b[0m )\u001b[39m.\u001b[39mtext\n\u001b[1;32m    141\u001b[0m validate_button \u001b[39m=\u001b[39m driver\u001b[39m.\u001b[39mfind_element(\n\u001b[1;32m    142\u001b[0m     \u001b[39m\"\u001b[39m\u001b[39mxpath\u001b[39m\u001b[39m\"\u001b[39m,\n\u001b[1;32m    143\u001b[0m     \u001b[39m'\u001b[39m\u001b[39m//*[@id=\u001b[39m\u001b[39m\"\u001b[39m\u001b[39msearch-engine\u001b[39m\u001b[39m\"\u001b[39m\u001b[39m]/div/div[1]/div[2]/div[2]/div[3]/button[2]\u001b[39m\u001b[39m'\u001b[39m,\n\u001b[1;32m    144\u001b[0m )\n",
      "File \u001b[0;32m~/opt/anaconda3/lib/python3.9/site-packages/selenium/webdriver/remote/webdriver.py:493\u001b[0m, in \u001b[0;36mWebDriver.execute_script\u001b[0;34m(self, script, *args)\u001b[0m\n\u001b[1;32m    490\u001b[0m converted_args \u001b[39m=\u001b[39m \u001b[39mlist\u001b[39m(args)\n\u001b[1;32m    491\u001b[0m command \u001b[39m=\u001b[39m Command\u001b[39m.\u001b[39mW3C_EXECUTE_SCRIPT\n\u001b[0;32m--> 493\u001b[0m \u001b[39mreturn\u001b[39;00m \u001b[39mself\u001b[39;49m\u001b[39m.\u001b[39;49mexecute(command, {\n\u001b[1;32m    494\u001b[0m     \u001b[39m'\u001b[39;49m\u001b[39mscript\u001b[39;49m\u001b[39m'\u001b[39;49m: script,\n\u001b[1;32m    495\u001b[0m     \u001b[39m'\u001b[39;49m\u001b[39margs\u001b[39;49m\u001b[39m'\u001b[39;49m: converted_args})[\u001b[39m'\u001b[39m\u001b[39mvalue\u001b[39m\u001b[39m'\u001b[39m]\n",
      "File \u001b[0;32m~/opt/anaconda3/lib/python3.9/site-packages/selenium/webdriver/remote/webdriver.py:435\u001b[0m, in \u001b[0;36mWebDriver.execute\u001b[0;34m(self, driver_command, params)\u001b[0m\n\u001b[1;32m    433\u001b[0m response \u001b[39m=\u001b[39m \u001b[39mself\u001b[39m\u001b[39m.\u001b[39mcommand_executor\u001b[39m.\u001b[39mexecute(driver_command, params)\n\u001b[1;32m    434\u001b[0m \u001b[39mif\u001b[39;00m response:\n\u001b[0;32m--> 435\u001b[0m     \u001b[39mself\u001b[39;49m\u001b[39m.\u001b[39;49merror_handler\u001b[39m.\u001b[39;49mcheck_response(response)\n\u001b[1;32m    436\u001b[0m     response[\u001b[39m'\u001b[39m\u001b[39mvalue\u001b[39m\u001b[39m'\u001b[39m] \u001b[39m=\u001b[39m \u001b[39mself\u001b[39m\u001b[39m.\u001b[39m_unwrap_value(\n\u001b[1;32m    437\u001b[0m         response\u001b[39m.\u001b[39mget(\u001b[39m'\u001b[39m\u001b[39mvalue\u001b[39m\u001b[39m'\u001b[39m, \u001b[39mNone\u001b[39;00m))\n\u001b[1;32m    438\u001b[0m     \u001b[39mreturn\u001b[39;00m response\n",
      "File \u001b[0;32m~/opt/anaconda3/lib/python3.9/site-packages/selenium/webdriver/remote/errorhandler.py:247\u001b[0m, in \u001b[0;36mErrorHandler.check_response\u001b[0;34m(self, response)\u001b[0m\n\u001b[1;32m    245\u001b[0m         alert_text \u001b[39m=\u001b[39m value[\u001b[39m'\u001b[39m\u001b[39malert\u001b[39m\u001b[39m'\u001b[39m]\u001b[39m.\u001b[39mget(\u001b[39m'\u001b[39m\u001b[39mtext\u001b[39m\u001b[39m'\u001b[39m)\n\u001b[1;32m    246\u001b[0m     \u001b[39mraise\u001b[39;00m exception_class(message, screen, stacktrace, alert_text)  \u001b[39m# type: ignore[call-arg]  # mypy is not smart enough here\u001b[39;00m\n\u001b[0;32m--> 247\u001b[0m \u001b[39mraise\u001b[39;00m exception_class(message, screen, stacktrace)\n",
      "\u001b[0;31mStaleElementReferenceException\u001b[0m: Message: stale element reference: element is not attached to the page document\n  (Session info: headless chrome=106.0.5249.103)\nStacktrace:\n0   chromedriver                        0x000000010114e598 chromedriver + 4404632\n1   chromedriver                        0x00000001010d5fa3 chromedriver + 3911587\n2   chromedriver                        0x0000000100d82e6a chromedriver + 425578\n3   chromedriver                        0x0000000100d86037 chromedriver + 438327\n4   chromedriver                        0x0000000100d85ed7 chromedriver + 437975\n5   chromedriver                        0x0000000100d86b00 chromedriver + 441088\n6   chromedriver                        0x0000000100df0c1f chromedriver + 875551\n7   chromedriver                        0x0000000100dd8da2 chromedriver + 777634\n8   chromedriver                        0x0000000100deff79 chromedriver + 872313\n9   chromedriver                        0x0000000100dd8bd3 chromedriver + 777171\n10  chromedriver                        0x0000000100dadced chromedriver + 601325\n11  chromedriver                        0x0000000100daee51 chromedriver + 605777\n12  chromedriver                        0x000000010111e0ce chromedriver + 4206798\n13  chromedriver                        0x0000000101122797 chromedriver + 4224919\n14  chromedriver                        0x0000000101129a4f chromedriver + 4254287\n15  chromedriver                        0x00000001011234da chromedriver + 4228314\n16  chromedriver                        0x00000001010fc23f chromedriver + 4067903\n17  chromedriver                        0x00000001011406a8 chromedriver + 4347560\n18  chromedriver                        0x0000000101140816 chromedriver + 4347926\n19  chromedriver                        0x00000001011558fe chromedriver + 4434174\n20  libsystem_pthread.dylib             0x00007fff68c1e109 _pthread_start + 148\n21  libsystem_pthread.dylib             0x00007fff68c19b8b thread_start + 15\n"
     ]
    }
   ],
   "source": [
    "a.filter_search([\"Paris\"])"
   ]
  },
  {
   "cell_type": "code",
   "execution_count": 32,
   "metadata": {},
   "outputs": [
    {
     "name": "stdout",
     "output_type": "stream",
     "text": [
      "2022-10-08 19:53:27,442 | INFO | ====== WebDriver manager ======\n",
      "2022-10-08 19:53:28,125 | INFO | Get LATEST chromedriver version for google-chrome 106.0.5249\n",
      "2022-10-08 19:53:28,698 | INFO | Driver [/Users/hippodouche/.wdm/drivers/chromedriver/mac64/106.0.5249/chromedriver] found in cache\n"
     ]
    }
   ],
   "source": [
    "from selenium import webdriver\n",
    "import warnings\n",
    "\n",
    "warnings.filterwarnings(\"ignore\")\n",
    "options = webdriver.ChromeOptions()\n",
    "options.add_argument(\"headless\")\n",
    "options.add_argument(\"start-maximized\")\n",
    "options.add_argument(\"--log-level=3\")\n",
    "from selenium.webdriver.chrome.service import Service\n",
    "from webdriver_manager.chrome import ChromeDriverManager\n",
    "from selenium.common.exceptions import StaleElementReferenceException, NoSuchElementException\n",
    "\n",
    "url=\"https://immobilier.lefigaro.fr/annonces/immobilier-location-bien-france.html\"\n",
    "\n",
    "s = Service(ChromeDriverManager().install())\n",
    "driver = webdriver.Chrome(service=s, options=options)\n",
    "driver.maximize_window()\n",
    "driver.get(url)"
   ]
  },
  {
   "cell_type": "code",
   "execution_count": 33,
   "metadata": {},
   "outputs": [
    {
     "data": {
      "text/plain": [
       "'Lye (36)\\nVille\\nLys (58)\\nVille\\nLys (64)\\nVille\\nLlo (66)\\nVille\\nDyo (71)\\nVille\\nLyon (69)\\nVille\\nSaint-lye (10)\\nVille'"
      ]
     },
     "execution_count": 33,
     "metadata": {},
     "output_type": "execute_result"
    }
   ],
   "source": [
    "from selenium.webdriver.common.by import By\n",
    "\n",
    "localisation_button = driver.find_element(\n",
    "            \"xpath\", '//*[@id=\"search-engine\"]/div/div[1]/div[2]/div/span/span'\n",
    "        )\n",
    "driver.execute_script(\"arguments[0].click();\", localisation_button)\n",
    "driver.find_element(\n",
    "                \"xpath\",\n",
    "                \"//*[@id='search-engine']/div/div[1]/div[2]/div[2]/div[2]/div/div/input\",\n",
    "            ).send_keys(\"LYON\")\n",
    "driver.implicitly_wait(3)\n",
    "driver.find_element(By.CLASS_NAME, \"select-list\").text\n"
   ]
  },
  {
   "cell_type": "code",
   "execution_count": 22,
   "metadata": {},
   "outputs": [
    {
     "data": {
      "text/plain": [
       "'Saint-Yon (91)'"
      ]
     },
     "execution_count": 22,
     "metadata": {},
     "output_type": "execute_result"
    }
   ],
   "source": [
    "driver.find_element(By.CSS_SELECTOR,'[data-e2e=\"location\"]').text"
   ]
  },
  {
   "cell_type": "code",
   "execution_count": null,
   "metadata": {},
   "outputs": [],
   "source": []
  }
 ],
 "metadata": {
  "kernelspec": {
   "display_name": "Python 3.9.12 ('base')",
   "language": "python",
   "name": "python3"
  },
  "language_info": {
   "codemirror_mode": {
    "name": "ipython",
    "version": 3
   },
   "file_extension": ".py",
   "mimetype": "text/x-python",
   "name": "python",
   "nbconvert_exporter": "python",
   "pygments_lexer": "ipython3",
   "version": "3.9.12"
  },
  "orig_nbformat": 4,
  "vscode": {
   "interpreter": {
    "hash": "9d88e75428781c8dbfcf983f3d3ee2e05705b6c25b0cfb94ac5c293e65f95f02"
   }
  }
 },
 "nbformat": 4,
 "nbformat_minor": 2
}
